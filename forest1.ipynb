{
 "cells": [
  {
   "cell_type": "code",
   "execution_count": 1,
   "id": "3b7b8bbc-41a9-4b12-9b18-069bd1857104",
   "metadata": {},
   "outputs": [],
   "source": [
    "import numpy as np\n",
    "import pandas as pd\n",
    "from sklearn.datasets import fetch_california_housing\n",
    "\n",
    "\n",
    "housing = fetch_california_housing()\n",
    "\n",
    "# np.c_ is the numpy concatenate function\n",
    "# which is used to concat iris['data'] and iris['target'] arrays \n",
    "# for pandas column argument: concat iris['feature_names'] list\n",
    "# and string list (in this case one string); you can make this anything you'd like..  \n",
    "# the original dataset would probably call this ['Species']\n",
    "df = pd.DataFrame(data= np.c_[housing['data'], housing['target']],\n",
    "                     columns= housing['feature_names'] + ['target'])"
   ]
  },
  {
   "cell_type": "code",
   "execution_count": 2,
   "id": "62dcd6b7-043c-46e6-956a-acfed3c947aa",
   "metadata": {},
   "outputs": [],
   "source": [
    "X = df.drop(\"target\",axis =1 ).to_numpy()\n",
    "y = df.target.to_numpy()"
   ]
  },
  {
   "cell_type": "code",
   "execution_count": 3,
   "id": "f59b446e-f82a-419c-8e0e-29ca87fcb00b",
   "metadata": {},
   "outputs": [],
   "source": [
    "from sklearn import model_selection\n",
    "X_train, X_test, y_train, y_test = \\\n",
    "    model_selection.train_test_split(X, y,\n",
    "                                test_size=0.3,\n",
    "                                     random_state = 42\n",
    "                                )"
   ]
  },
  {
   "cell_type": "code",
   "execution_count": 4,
   "id": "3080b79f-4781-4e6c-a6ba-a398a68d3787",
   "metadata": {},
   "outputs": [],
   "source": [
    "Xtrain = np.save(\"X_train.npy\", X_train)\n",
    "Xtest = np.save(\"X_test.npy\", X_test)\n",
    "Ytrain = np.save(\"Y_train.npy\", y_train)\n",
    "Ytest = np.save(\"Y_test.npy\", y_test)"
   ]
  },
  {
   "cell_type": "code",
   "execution_count": null,
   "id": "744f56e6-ce51-41d1-9398-478755ee0a1b",
   "metadata": {},
   "outputs": [],
   "source": []
  }
 ],
 "metadata": {
  "kernelspec": {
   "display_name": "Python 3 (ipykernel)",
   "language": "python",
   "name": "python3"
  },
  "language_info": {
   "codemirror_mode": {
    "name": "ipython",
    "version": 3
   },
   "file_extension": ".py",
   "mimetype": "text/x-python",
   "name": "python",
   "nbconvert_exporter": "python",
   "pygments_lexer": "ipython3",
   "version": "3.10.9"
  }
 },
 "nbformat": 4,
 "nbformat_minor": 5
}
