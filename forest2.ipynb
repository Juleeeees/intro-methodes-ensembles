{
 "cells": [
  {
   "cell_type": "code",
   "execution_count": null,
   "id": "5600dcf4-1194-40bc-8eb6-a5fac3d395eb",
   "metadata": {},
   "outputs": [],
   "source": [
    "import numpy as np\n",
    "import pandas as pd\n",
    "from sklearn.ensemble import RandomForestRegressor\n",
    "from sklearn import model_selection"
   ]
  },
  {
   "cell_type": "code",
   "execution_count": null,
   "id": "96b4af20-6cc8-4f4b-8169-265865cfbfeb",
   "metadata": {},
   "outputs": [],
   "source": [
    "Xtrain = np.load(\"X_train.npy\")\n",
    "Ytrain = np.load(\"Y_train.npy\")"
   ]
  },
  {
   "cell_type": "raw",
   "id": "2b32f00a-757e-40e2-953c-38248907cffb",
   "metadata": {
    "tags": []
   },
   "source": [
    "from sklearn import neighbors, metrics\n",
    "\n",
    "\n",
    "# Fixer les valeurs des hyperparamètres à tester\n",
    "param_grid = {'max_depth':[1,2,3, 4, 5, 6, 7, 8, 9],'n_estimators':[100,200,300,500,1000,2000,3000,4000,5000]}\n",
    "\n",
    "# Choisir un score à optimiser, ici l'accuracy (proportion de prédictions correctes)\n",
    "score = 'neg_root_mean_squared_error'\n",
    "\n",
    "# Créer un classifieur kNN avec recherche d'hyperparamètre par validation croisée\n",
    "clf = model_selection.GridSearchCV(\n",
    "    RandomForestRegressor(), # un classifieur kNN\n",
    "    param_grid,     # hyperparamètres à tester\n",
    "    cv=5,           # nombre de folds de validation croisée\n",
    "    scoring=score,\n",
    "    n_jobs = -1\n",
    "    # score à optimiser\n",
    ")\n",
    "\n",
    "# Optimiser ce classifieur sur le jeu d'entraînement\n",
    "clf.fit(Xtrain, Ytrain)\n",
    "\n",
    "# Afficher le(s) hyperparamètre(s) optimaux\n",
    "print(\"Meilleur(s) hyperparamètre(s) sur le jeu d'entraînement:\")\n",
    "print(clf.best_params_)\n",
    "\n",
    "# Afficher les performances correspondantes\n",
    "print(\"Résultats de la validation croisée :\")\n",
    "for mean, std, params in zip(\n",
    "        clf.cv_results_['mean_test_score'], # score moyen\n",
    "        clf.cv_results_['std_test_score'],  # écart-type du score\n",
    "        clf.cv_results_['params']           # valeur de l'hyperparamètre\n",
    "    ):\n",
    "\n",
    "    print(\"{} = {:.3f} (+/-{:.03f}) for {}\".format(\n",
    "        score,\n",
    "        mean,\n",
    "        std*2,\n",
    "        params\n",
    "    ) )\n"
   ]
  },
  {
   "cell_type": "code",
   "execution_count": 13,
   "id": "cb93d1a9-ee36-4894-a4ee-09a7f1ab9fc9",
   "metadata": {
    "collapsed": true,
    "jupyter": {
     "outputs_hidden": true
    },
    "tags": []
   },
   "outputs": [
    {
     "name": "stdout",
     "output_type": "stream",
     "text": [
      "0.7508980778702865 8 200\n",
      "0.7515683665455541 8 300\n",
      "0.7508564902395909 8 400\n",
      "0.7525593266825057 8 500\n",
      "0.7520679926726302 8 600\n",
      "0.7524654875504195 8 700\n",
      "0.7522336310198893 8 800\n",
      "0.7519681901315706 8 900\n",
      "0.7522600200533229 8 1000\n",
      "0.7674937922621907 9 200\n",
      "0.7696214615369681 9 300\n",
      "0.7689261917504645 9 400\n",
      "0.7692438056966685 9 500\n",
      "0.7689132962030193 9 600\n",
      "0.7692813826912002 9 700\n",
      "0.7693786748284069 9 800\n",
      "0.7703703789533873 9 900\n",
      "0.7692811552590044 9 1000\n",
      "0.7800770281984464 10 200\n",
      "0.7809587151122007 10 300\n",
      "0.7808681555673401 10 400\n",
      "0.7807607801303826 10 500\n",
      "0.7815883147612335 10 600\n",
      "0.7814256699464686 10 700\n",
      "0.7821662052787088 10 800\n",
      "0.7815411283394861 10 900\n",
      "0.7813459160926445 10 1000\n",
      "0.7889364230549814 11 200\n",
      "0.7894303143451491 11 300\n",
      "0.7899240076819272 11 400\n",
      "0.7899846707259024 11 500\n",
      "0.7904488704091098 11 600\n",
      "0.7901055028106068 11 700\n",
      "0.790166096617382 11 800\n",
      "0.7902880673241909 11 900\n",
      "0.7899632523873077 11 1000\n"
     ]
    }
   ],
   "source": [
    "depht  = [8,9,10,11]\n",
    "estim = [200,300,400,500,600,700,800,900,1000]\n",
    "\n",
    "\n",
    "for d in depht:\n",
    "    for x in estim:\n",
    "        foret = RandomForestRegressor(max_depth=d,n_estimators=x, bootstrap = True, oob_score = True)\n",
    "        foret.fit(Xtrain, Ytrain) \n",
    "        print(foret.oob_score_, d , x)"
   ]
  },
  {
   "cell_type": "code",
   "execution_count": 15,
   "id": "9b7cf19e-df86-4c9b-8541-b7d48a50eabb",
   "metadata": {},
   "outputs": [],
   "source": [
    "foret = RandomForestRegressor(max_depth=10 ,n_estimators=800, bootstrap = True, oob_score = True).fit(Xtrain, Ytrain)\n"
   ]
  },
  {
   "cell_type": "code",
   "execution_count": 17,
   "id": "3fa46de6-6d54-47ed-a1e3-9beea05a5e5d",
   "metadata": {},
   "outputs": [
    {
     "data": {
      "text/plain": [
       "0.8754549762847041"
      ]
     },
     "execution_count": 17,
     "metadata": {},
     "output_type": "execute_result"
    }
   ],
   "source": [
    "foret.score(Xtrain, Ytrain)"
   ]
  },
  {
   "cell_type": "code",
   "execution_count": 18,
   "id": "86e16b59-904a-4f41-9559-b04d49e71d88",
   "metadata": {},
   "outputs": [
    {
     "data": {
      "text/plain": [
       "['randforet']"
      ]
     },
     "execution_count": 18,
     "metadata": {},
     "output_type": "execute_result"
    }
   ],
   "source": [
    "import joblib\n",
    "\n",
    "# Pour enregistrer le modèle sur le PC \n",
    "filename = 'randforet'\n",
    "joblib.dump(foret, filename)\n",
    "\n"
   ]
  },
  {
   "cell_type": "code",
   "execution_count": null,
   "id": "fffa219c-2a8d-45f0-98ef-f9ae29210c5f",
   "metadata": {},
   "outputs": [],
   "source": []
  }
 ],
 "metadata": {
  "kernelspec": {
   "display_name": "Python 3 (ipykernel)",
   "language": "python",
   "name": "python3"
  },
  "language_info": {
   "codemirror_mode": {
    "name": "ipython",
    "version": 3
   },
   "file_extension": ".py",
   "mimetype": "text/x-python",
   "name": "python",
   "nbconvert_exporter": "python",
   "pygments_lexer": "ipython3",
   "version": "3.10.9"
  }
 },
 "nbformat": 4,
 "nbformat_minor": 5
}
