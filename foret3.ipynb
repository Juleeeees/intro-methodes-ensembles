{
 "cells": [
  {
   "cell_type": "code",
   "execution_count": 4,
   "id": "99f36edc-291c-4543-bb15-dec93835ed2c",
   "metadata": {},
   "outputs": [],
   "source": [
    "import numpy as np\n",
    "import pandas as pd\n",
    "from sklearn.ensemble import RandomForestRegressor\n",
    "from sklearn import model_selection\n",
    "import joblib"
   ]
  },
  {
   "cell_type": "code",
   "execution_count": 2,
   "id": "196287e9-4dbf-447b-90e4-ee0321a97f7f",
   "metadata": {},
   "outputs": [],
   "source": [
    "Xtest = np.load(\"X_test.npy\")\n",
    "Ytest = np.load(\"Y_test.npy\")"
   ]
  },
  {
   "cell_type": "code",
   "execution_count": 5,
   "id": "1be75d66-f847-4e72-ab2c-699514f5d424",
   "metadata": {},
   "outputs": [],
   "source": [
    "# Pour l'utiliser dans un autre notebook\n",
    "foret = joblib.load('randforet')"
   ]
  },
  {
   "cell_type": "code",
   "execution_count": 6,
   "id": "154cb5db-fd82-4196-9bf0-230e8ab9fc68",
   "metadata": {},
   "outputs": [
    {
     "data": {
      "text/plain": [
       "0.7786731230676339"
      ]
     },
     "execution_count": 6,
     "metadata": {},
     "output_type": "execute_result"
    }
   ],
   "source": [
    "foret.score(Xtest,Ytest)"
   ]
  },
  {
   "cell_type": "code",
   "execution_count": null,
   "id": "e883d711-4184-4f1f-b234-442eeebae8d0",
   "metadata": {},
   "outputs": [],
   "source": []
  }
 ],
 "metadata": {
  "kernelspec": {
   "display_name": "Python 3 (ipykernel)",
   "language": "python",
   "name": "python3"
  },
  "language_info": {
   "codemirror_mode": {
    "name": "ipython",
    "version": 3
   },
   "file_extension": ".py",
   "mimetype": "text/x-python",
   "name": "python",
   "nbconvert_exporter": "python",
   "pygments_lexer": "ipython3",
   "version": "3.10.9"
  }
 },
 "nbformat": 4,
 "nbformat_minor": 5
}
